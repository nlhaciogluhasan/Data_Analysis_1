{
 "cells": [
  {
   "cell_type": "markdown",
   "metadata": {},
   "source": [
    "1. Numpy’da Vektor ve Matrisin farkini tek cumle ile ifade ediniz.\n",
    "Ans: One-dimensional Numpy arrays are also called vectors, while Numpy arrays with multiple dimensions can be treated as matrices."
   ]
  },
  {
   "cell_type": "code",
   "execution_count": 2,
   "metadata": {},
   "outputs": [
    {
     "data": {
      "text/plain": [
       "array([0, 1, 2, 3, 4, 5, 6, 7, 8, 9])"
      ]
     },
     "execution_count": 2,
     "metadata": {},
     "output_type": "execute_result"
    }
   ],
   "source": [
    "#2.10 elemanli bir listeden NumPy Array’i olusturunuz.\n",
    "import numpy as np\n",
    "a=np.array([0,1,2,3,4,5,6,7,8,9])\n",
    "a"
   ]
  },
  {
   "cell_type": "code",
   "execution_count": 3,
   "metadata": {},
   "outputs": [
    {
     "data": {
      "text/plain": [
       "array([[0, 0, 0, 0, 0, 0, 0, 0, 0, 0],\n",
       "       [0, 0, 0, 0, 0, 0, 0, 0, 0, 0],\n",
       "       [0, 0, 0, 0, 0, 0, 0, 0, 0, 0],\n",
       "       [0, 0, 0, 0, 0, 0, 0, 0, 0, 0],\n",
       "       [0, 0, 0, 0, 0, 0, 0, 0, 0, 0],\n",
       "       [0, 0, 0, 0, 0, 0, 0, 0, 0, 0],\n",
       "       [0, 0, 0, 0, 0, 0, 0, 0, 0, 0],\n",
       "       [0, 0, 0, 0, 0, 0, 0, 0, 0, 0],\n",
       "       [0, 0, 0, 0, 0, 0, 0, 0, 0, 0],\n",
       "       [0, 0, 0, 0, 0, 0, 0, 0, 0, 0]])"
      ]
     },
     "execution_count": 3,
     "metadata": {},
     "output_type": "execute_result"
    }
   ],
   "source": [
    "#3.Icerisinde ‘0’ lar olan, ve veri tipi integer olan 10X10’luk bir matris olusturunuz.\n",
    "b=np.zeros((10,10),dtype=int)\n",
    "b"
   ]
  },
  {
   "cell_type": "code",
   "execution_count": 4,
   "metadata": {},
   "outputs": [
    {
     "data": {
      "text/plain": [
       "array([[1., 1., 1., 1., 1., 1., 1., 1., 1., 1.],\n",
       "       [1., 1., 1., 1., 1., 1., 1., 1., 1., 1.],\n",
       "       [1., 1., 1., 1., 1., 1., 1., 1., 1., 1.],\n",
       "       [1., 1., 1., 1., 1., 1., 1., 1., 1., 1.],\n",
       "       [1., 1., 1., 1., 1., 1., 1., 1., 1., 1.],\n",
       "       [1., 1., 1., 1., 1., 1., 1., 1., 1., 1.],\n",
       "       [1., 1., 1., 1., 1., 1., 1., 1., 1., 1.],\n",
       "       [1., 1., 1., 1., 1., 1., 1., 1., 1., 1.],\n",
       "       [1., 1., 1., 1., 1., 1., 1., 1., 1., 1.],\n",
       "       [1., 1., 1., 1., 1., 1., 1., 1., 1., 1.]])"
      ]
     },
     "execution_count": 4,
     "metadata": {},
     "output_type": "execute_result"
    }
   ],
   "source": [
    "#4. Icerisinde ‘1’ ler olan, veri tipi float olan 10X10’luk bir matris olusturunuz.\n",
    "c=np.ones((10,10),dtype=float)\n",
    "c"
   ]
  },
  {
   "cell_type": "code",
   "execution_count": 5,
   "metadata": {},
   "outputs": [
    {
     "data": {
      "text/plain": [
       "array([[9, 9, 9, 9, 9, 9, 9, 9, 9, 9],\n",
       "       [9, 9, 9, 9, 9, 9, 9, 9, 9, 9],\n",
       "       [9, 9, 9, 9, 9, 9, 9, 9, 9, 9],\n",
       "       [9, 9, 9, 9, 9, 9, 9, 9, 9, 9],\n",
       "       [9, 9, 9, 9, 9, 9, 9, 9, 9, 9],\n",
       "       [9, 9, 9, 9, 9, 9, 9, 9, 9, 9],\n",
       "       [9, 9, 9, 9, 9, 9, 9, 9, 9, 9],\n",
       "       [9, 9, 9, 9, 9, 9, 9, 9, 9, 9],\n",
       "       [9, 9, 9, 9, 9, 9, 9, 9, 9, 9],\n",
       "       [9, 9, 9, 9, 9, 9, 9, 9, 9, 9]])"
      ]
     },
     "execution_count": 5,
     "metadata": {},
     "output_type": "execute_result"
    }
   ],
   "source": [
    "#5. Icerisinde ‘9’ lar olan, veri tipi integer olan 10X10’luk bir matris olusturunuz.\n",
    "d=np.full((10,10),9,dtype=int)\n",
    "d"
   ]
  },
  {
   "cell_type": "code",
   "execution_count": 6,
   "metadata": {},
   "outputs": [
    {
     "data": {
      "text/plain": [
       "array([ 5,  8, 11, 14, 17, 20, 23])"
      ]
     },
     "execution_count": 6,
     "metadata": {},
     "output_type": "execute_result"
    }
   ],
   "source": [
    "#6. 5 ile 25 arasinda, 3’er 3’er atlayan tek boyutlu bir Array olusturunuz.\n",
    "e=np.arange(5,25,3)\n",
    "e"
   ]
  },
  {
   "cell_type": "code",
   "execution_count": 7,
   "metadata": {},
   "outputs": [
    {
     "data": {
      "text/plain": [
       "array([-1.        , -0.93103448, -0.86206897, -0.79310345, -0.72413793,\n",
       "       -0.65517241, -0.5862069 , -0.51724138, -0.44827586, -0.37931034,\n",
       "       -0.31034483, -0.24137931, -0.17241379, -0.10344828, -0.03448276,\n",
       "        0.03448276,  0.10344828,  0.17241379,  0.24137931,  0.31034483,\n",
       "        0.37931034,  0.44827586,  0.51724138,  0.5862069 ,  0.65517241,\n",
       "        0.72413793,  0.79310345,  0.86206897,  0.93103448,  1.        ])"
      ]
     },
     "execution_count": 7,
     "metadata": {},
     "output_type": "execute_result"
    }
   ],
   "source": [
    "#7. -1 ile 1 arasinda 30 adet Array olusturunuz.\n",
    "f=np.linspace(-1,1,30)\n",
    "f"
   ]
  },
  {
   "cell_type": "code",
   "execution_count": 8,
   "metadata": {},
   "outputs": [
    {
     "data": {
      "text/plain": [
       "array([[ 0,  1,  2,  3,  4,  5],\n",
       "       [ 6,  7,  8,  9, 10, 11],\n",
       "       [12, 13, 14, 15, 16, 17],\n",
       "       [18, 19, 20, 21, 22, 23],\n",
       "       [24, 25, 26, 27, 28, 29]])"
      ]
     },
     "execution_count": 8,
     "metadata": {},
     "output_type": "execute_result"
    }
   ],
   "source": [
    "#8. 0 ile 30 arasinda 5x6’lik bir matris olusturun.\n",
    "g=np.arange(0,30).reshape(5,6)\n",
    "g"
   ]
  },
  {
   "cell_type": "code",
   "execution_count": 9,
   "metadata": {},
   "outputs": [
    {
     "data": {
      "text/plain": [
       "array([[1., 0., 0., 0., 0., 0., 0., 0., 0., 0.],\n",
       "       [0., 1., 0., 0., 0., 0., 0., 0., 0., 0.],\n",
       "       [0., 0., 1., 0., 0., 0., 0., 0., 0., 0.],\n",
       "       [0., 0., 0., 1., 0., 0., 0., 0., 0., 0.],\n",
       "       [0., 0., 0., 0., 1., 0., 0., 0., 0., 0.],\n",
       "       [0., 0., 0., 0., 0., 1., 0., 0., 0., 0.],\n",
       "       [0., 0., 0., 0., 0., 0., 1., 0., 0., 0.],\n",
       "       [0., 0., 0., 0., 0., 0., 0., 1., 0., 0.],\n",
       "       [0., 0., 0., 0., 0., 0., 0., 0., 1., 0.],\n",
       "       [0., 0., 0., 0., 0., 0., 0., 0., 0., 1.]])"
      ]
     },
     "execution_count": 9,
     "metadata": {},
     "output_type": "execute_result"
    }
   ],
   "source": [
    "#9. Kosegenleri 1 olan 10x10’luk bir matris olusturunuz.\n",
    "h=np.eye(10)\n",
    "h"
   ]
  },
  {
   "cell_type": "code",
   "execution_count": 10,
   "metadata": {},
   "outputs": [
    {
     "name": "stdout",
     "output_type": "stream",
     "text": [
      "[[8 9 2 6 1 2 1 4 3 6]\n",
      " [2 4 6 4 1 6 4 7 9 5]\n",
      " [4 9 2 8 6 8 8 7 8 5]\n",
      " [2 9 6 8 4 1 2 5 8 3]\n",
      " [1 4 7 8 8 9 7 8 4 1]]\n",
      "50\n",
      "(5, 10)\n",
      "2\n",
      "(5, 10)\n",
      "int32\n"
     ]
    }
   ],
   "source": [
    "#10. 0 ile 10 arasinda 5x10’lik bir matris olusturun. (integer) ve bu matrisin; • eleman sayisini • boyut bilgisini/sayisini • satir X sutun bilgisini • veri tipini numpy metodlariyla yazdiriniz.\n",
    "i=np.random.randint(1,10,(5,10),dtype=int)\n",
    "print(i)\n",
    "print(i.size) #eleman sayısı\n",
    "print(i.shape) #boyut bilgisi\n",
    "print(i.ndim) #boyut sayısı\n",
    "print(i.shape) #satırxsütun bilgisi\n",
    "print(i.dtype) #veri tipi"
   ]
  },
  {
   "cell_type": "code",
   "execution_count": 11,
   "metadata": {},
   "outputs": [
    {
     "data": {
      "text/plain": [
       "array([[[3, 5, 5, 1, 5, 0, 0],\n",
       "        [2, 8, 2, 8, 6, 0, 7],\n",
       "        [5, 8, 3, 0, 8, 4, 1],\n",
       "        [1, 0, 5, 7, 9, 1, 7]],\n",
       "\n",
       "       [[2, 4, 6, 8, 8, 2, 1],\n",
       "        [0, 4, 3, 1, 6, 0, 7],\n",
       "        [7, 2, 9, 8, 7, 7, 4],\n",
       "        [9, 3, 6, 2, 4, 7, 6]],\n",
       "\n",
       "       [[8, 5, 5, 8, 5, 3, 0],\n",
       "        [7, 8, 9, 6, 9, 0, 4],\n",
       "        [0, 8, 6, 4, 4, 6, 4],\n",
       "        [4, 0, 6, 4, 7, 9, 8]]])"
      ]
     },
     "execution_count": 11,
     "metadata": {},
     "output_type": "execute_result"
    }
   ],
   "source": [
    "#11. 0 ile 10 arasindaki degerlerden olusan 3 adet 4x7’lik bir matris olusturunuz. (3 boyutlu bir matris olusturulacak)\n",
    "\n",
    "j=np.random.randint(0,10,(3,4,7))\n",
    "j"
   ]
  },
  {
   "cell_type": "code",
   "execution_count": 12,
   "metadata": {},
   "outputs": [
    {
     "data": {
      "text/plain": [
       "array([[0, 1],\n",
       "       [2, 3],\n",
       "       [4, 5],\n",
       "       [6, 7],\n",
       "       [8, 9]])"
      ]
     },
     "execution_count": 12,
     "metadata": {},
     "output_type": "execute_result"
    }
   ],
   "source": [
    "#12. Bir vektor olusturunuz ve daha sonrasinda ayni vektoru bir matrise ceviriniz. (boyut sayisini degistirin.)\n",
    "k=np.arange(10).reshape(5,2)\n",
    "k"
   ]
  },
  {
   "cell_type": "code",
   "execution_count": 13,
   "metadata": {},
   "outputs": [
    {
     "data": {
      "text/plain": [
       "array([ 0,  1,  2,  3,  4,  5,  6,  7,  8,  9, 10, 11, 12, 13, 14, 15, 16,\n",
       "       17, 18, 19])"
      ]
     },
     "execution_count": 13,
     "metadata": {},
     "output_type": "execute_result"
    }
   ],
   "source": [
    "#13. 4 tane ayri tek boyutlu array’i birlestirerek bir array olusturunuz.\n",
    "l=np.arange(5)\n",
    "m=np.arange(5,10)\n",
    "n=np.arange(10,15)\n",
    "o=np.arange(15,20)\n",
    "p=np.concatenate([l,m,n,o])\n",
    "p"
   ]
  },
  {
   "cell_type": "code",
   "execution_count": 19,
   "metadata": {},
   "outputs": [
    {
     "name": "stdout",
     "output_type": "stream",
     "text": [
      "[[1]\n",
      " [2]]\n",
      "[[3 4 5]\n",
      " [6 7 8]]\n"
     ]
    },
    {
     "data": {
      "text/plain": [
       "array([[1, 3, 4, 5],\n",
       "       [2, 6, 7, 8]])"
      ]
     },
     "execution_count": 19,
     "metadata": {},
     "output_type": "execute_result"
    }
   ],
   "source": [
    "#14. 2 boyutlu bir vektor ve bir matris olusturun(ayri ayri), bu iki arrayi numpy metodlarini kullanarak sutun bazli birlestiriniz,\n",
    "r=np.array([[1],[2]])\n",
    "s=np.array([[3,4,5],[6,7,8]])\n",
    "print(r)\n",
    "print(s)\n",
    "t=np.concatenate([r,s],axis=1)\n",
    "t"
   ]
  },
  {
   "cell_type": "code",
   "execution_count": null,
   "metadata": {},
   "outputs": [],
   "source": [
    "#15. Numpy’da “axis=1” ve “axis=0” arasinda ne fark vardir. Teorik olarak yaziniz?\n",
    "#ANS:While axis=0 joins as rows, axis=1 joins on column basis. \n",
    "# In other words, when axis=1, it combines side by side, when axis=0, it combines bottom-to-bottom. "
   ]
  },
  {
   "cell_type": "code",
   "execution_count": 26,
   "metadata": {},
   "outputs": [
    {
     "name": "stdout",
     "output_type": "stream",
     "text": [
      "[[0 1 2]\n",
      " [3 4 5]]\n",
      "[[ 6  7  8]\n",
      " [ 9 10 11]\n",
      " [12 13 14]\n",
      " [15 16 17]]\n",
      "[[ 0  1  2]\n",
      " [ 3  4  5]\n",
      " [ 6  7  8]\n",
      " [ 9 10 11]\n",
      " [12 13 14]\n",
      " [15 16 17]]\n",
      "[[17 18]\n",
      " [19 20]\n",
      " [21 22]\n",
      " [23 24]]\n",
      "[[26 27 28]\n",
      " [29 30 31]\n",
      " [32 33 34]\n",
      " [35 36 37]]\n",
      "[[17 18 26 27 28]\n",
      " [19 20 29 30 31]\n",
      " [21 22 32 33 34]\n",
      " [23 24 35 36 37]]\n"
     ]
    }
   ],
   "source": [
    "#16. Farkli boyutlardaki arraylari satir ve sutun bazli ayri ayri birlestiriniz.\n",
    "\n",
    "u=np.arange(6).reshape(2,3)\n",
    "v=np.arange(6,18).reshape(4,3)\n",
    "y=np.vstack((u,v))\n",
    "print(u)\n",
    "print(v)\n",
    "print(y)\n",
    "z=np.arange(17,25).reshape(4,2)\n",
    "z1=np.arange(26,38).reshape(4,3)\n",
    "z2=np.hstack((z,z1))\n",
    "print(z)\n",
    "print(z1)\n",
    "print(z2)"
   ]
  },
  {
   "cell_type": "code",
   "execution_count": 29,
   "metadata": {},
   "outputs": [
    {
     "name": "stdout",
     "output_type": "stream",
     "text": [
      "[0, 1, 2, 3, 4, 5, 6, 7, 8, 9]\n"
     ]
    },
    {
     "data": {
      "text/plain": [
       "[array([0, 1]), array([2, 3]), array([4, 5]), array([6, 7]), array([8, 9])]"
      ]
     },
     "execution_count": 29,
     "metadata": {},
     "output_type": "execute_result"
    }
   ],
   "source": [
    "#17. 10 elemanli bi liste olusturunuz ve bu listeyi Numpy metodlariyla bolerek(split) 5 ayri array olusturunuz.\n",
    "a=[]\n",
    "for i in range(10):\n",
    "    a.append(i)\n",
    "print(a)\n",
    "np.split(a,[2,4,6,8])\n"
   ]
  },
  {
   "cell_type": "code",
   "execution_count": 35,
   "metadata": {},
   "outputs": [
    {
     "name": "stdout",
     "output_type": "stream",
     "text": [
      "[2 7 5 1 1 4 5 5 4 1]\n"
     ]
    },
    {
     "data": {
      "text/plain": [
       "array([1, 1, 1, 2, 4, 4, 5, 5, 5, 7])"
      ]
     },
     "execution_count": 35,
     "metadata": {},
     "output_type": "execute_result"
    }
   ],
   "source": [
    "#18. Random bir array olusturunuz ve bu arrayi buyukten kucuge dogru siralayiniz.Ve bu siralamadan sonra hangi elemanin hangi indexte oldugunu gosteren bir metod uygulayiniz.\n",
    "b=np.random.randint(1,10,(10))\n",
    "print(b)\n",
    "b.sort()\n",
    "b"
   ]
  },
  {
   "cell_type": "code",
   "execution_count": 37,
   "metadata": {},
   "outputs": [
    {
     "name": "stdout",
     "output_type": "stream",
     "text": [
      "[31  7 40 25 38 15 37 21 38 28 32 43  7 24 48 46 36 12  6 26]\n",
      "25 15 21\n"
     ]
    }
   ],
   "source": [
    "#19. 20 elemanli random bir vektor olusturunuz. Bu vektorun 3. 5. ve 7. elemanlarina ulasin.\n",
    "c=np.random.randint(1,50,(20))\n",
    "print(c)\n",
    "print(c[3],c[5],c[7])"
   ]
  },
  {
   "cell_type": "code",
   "execution_count": 39,
   "metadata": {},
   "outputs": [
    {
     "name": "stdout",
     "output_type": "stream",
     "text": [
      "[4 7 1 2 1 7 3 1 5 4]\n",
      "[  4   7   1   2 999   7   3   1   5   4]\n"
     ]
    }
   ],
   "source": [
    "#20. 10 elemanli random bir vektor olusturunuz ve bu arrayin 4. elemanini farkli bir sayiyla degistiriniz.\n",
    "d=np.random.randint(1,10,(10))\n",
    "print(d)\n",
    "d[4]=999\n",
    "print(d)"
   ]
  },
  {
   "cell_type": "code",
   "execution_count": 40,
   "metadata": {},
   "outputs": [],
   "source": [
    "#21. “Diagonal Matrix” ve “Trace of Matrix” kavramlari hakkinda kucuk bir arastirma yapip bunlarin ne oldugunu belirten kucuk bir aciklama yaziniz.\n",
    "#In a square matrix, if all the elements other than the elements on the prime diagonal are zero, this matrix is called a diagonal matrix.\n",
    "#The sum of the elements on the diagonal is called \"Trace of Matrix\"."
   ]
  },
  {
   "cell_type": "code",
   "execution_count": 43,
   "metadata": {},
   "outputs": [
    {
     "name": "stdout",
     "output_type": "stream",
     "text": [
      "[[1. 0. 0. 0. 0.]\n",
      " [0. 1. 0. 0. 0.]\n",
      " [0. 0. 1. 0. 0.]\n",
      " [0. 0. 0. 1. 0.]\n",
      " [0. 0. 0. 0. 1.]]\n",
      "1.0 1.0 1.0 1.0 1.0\n"
     ]
    }
   ],
   "source": [
    "#22. 5x5’lik Diagonal bir matris olusturunuz ve Diagonaline denk gelen indexlere ulasiniz.(ayri ayri)\n",
    "e=np.eye(5,5)\n",
    "print(e)\n",
    "print(e[0,0],e[1,1],e[2,2],e[3,3],e[4,4])\n"
   ]
  },
  {
   "cell_type": "code",
   "execution_count": 44,
   "metadata": {},
   "outputs": [
    {
     "name": "stdout",
     "output_type": "stream",
     "text": [
      "[13 14 15 16 17 18 19]\n"
     ]
    }
   ],
   "source": [
    "#23. 10 ile 20 arasinda bir vektor olusturunuz. Ve 3. indexten son indexe kadar olan degerleri yazdiriniz.\n",
    "f=np.arange(10,20)\n",
    "print(f[3:])"
   ]
  },
  {
   "cell_type": "code",
   "execution_count": 47,
   "metadata": {},
   "outputs": [
    {
     "name": "stdout",
     "output_type": "stream",
     "text": [
      "[[   0    1    2    3    4    5    6    7    8    9]\n",
      " [  10   11   12   13   14   15   16   17   18   19]\n",
      " [  20   21   22   23   24   25   26   27   28   29]\n",
      " [  30   31   32   33   34   35   36   37   38   39]\n",
      " [  40   41   42   43   44   45   46   47   48   49]\n",
      " [  50   51   52   53   54 1989   56   57   58   59]\n",
      " [  60   61   62   63   64   65   66   67   68   69]\n",
      " [  70   71   72   73   74   75   76   77   78   79]\n",
      " [  80   81   82   83   84   85   86   87   88   89]\n",
      " [  90   91   92   93   94   95   96   97   98   99]]\n"
     ]
    }
   ],
   "source": [
    "#24. 10X10 luk bir matris olusturunuz ve ; • 3.satir ve 5.sutuna ulasiniz. \n",
    "# • 5.sutunun tum satirlarina ulasiniz. • Tum sutunlarin 2.satirlarina ulasiniz. • tum sutunlarin 2 ile 7 arasindaki satirlarina ulasiniz. \n",
    "# • satir indexi 2’den 5’e ve sutun indexi 3 den 7’ye kadar olan degerlere ulasiniz. \n",
    "# • satir indexi 5’den en sona ve sutun indexi en bastan 4’e kadar olan degerlere ulasiniz. \n",
    "# • sutun indexi sadece 3, 6, 9 olan kolonlarin(sutunlarin), tum satirlarina ulasiniz. \n",
    "# • 5.indexli satir ve 5.indexli sutuna denk gelen degeri, dogum yilinizla degistiriniz.\n",
    "\n",
    "g=np.arange(100).reshape(10,10)\n",
    "#print(g[3,5])\n",
    "#print(g[:,5])\n",
    "#print(g[2,:])\n",
    "#print(g[2:7,:])\n",
    "#print(g[2:5,3:7])\n",
    "#print(g[5:,:4])\n",
    "#print(g[:,[3,6,9]])\n",
    "g[5,5]=1989\n",
    "print(g)\n",
    "\n",
    "\n",
    "\n",
    "\n"
   ]
  },
  {
   "cell_type": "code",
   "execution_count": 52,
   "metadata": {},
   "outputs": [
    {
     "name": "stdout",
     "output_type": "stream",
     "text": [
      "[ 0  5 10 15 20 25 30 35 40 45]\n",
      "[25 30 35 40 45]\n",
      "5\n",
      "[ 0  5 10 15 20 25]\n",
      "6\n",
      "[]\n",
      "0\n",
      "[  0  25  50  75 100 125 150 175 200 225]\n",
      "[0 1 0 1 0 1 0 1 0 1]\n"
     ]
    }
   ],
   "source": [
    "#25. 0’dan 50’ye kadar 5’er 5’er atlayarak giden bir array olusturunuz(tek boyutlu) ve numpy metodlariyla asagidaki \n",
    "# islemleri uygulayin; • 20 den buyuk olan kac deger var. • 30’dan kucuk kac deger var • icerisinde 33 gecen kac deger var \n",
    "# • olusturulan arrayin tum elemanlarini 5 ile carpin. • olusturulan arrayin tum elemanlarinin \n",
    "# 2 ile bolumunden kalanlari yazdiriniz.\n",
    "\n",
    "h=np.arange(0,50,5)\n",
    "print(h)\n",
    "print(h[h > 20])\n",
    "print(len(h[h > 20]))\n",
    "print(h[h < 30])\n",
    "print(len(h[h < 30])) \n",
    "print(h[h == 33])\n",
    "print(len(h[h == 33])) \n",
    "print(h * 5)\n",
    "print(h % 2) \n",
    "\n",
    "\n",
    "\n",
    "\n",
    "\n",
    "\n",
    "\n",
    "\n",
    "\n"
   ]
  },
  {
   "cell_type": "code",
   "execution_count": 54,
   "metadata": {},
   "outputs": [
    {
     "name": "stdout",
     "output_type": "stream",
     "text": [
      "0.5014128165367909\n",
      "0.28949071691123085\n",
      "0.08380487517777839\n",
      "0.510042117155797\n",
      "0.001267414930952615\n",
      "0.9588058910015195\n"
     ]
    }
   ],
   "source": [
    "#26. 0 ile 1 arasinda 50 elamanli bir array olusturunuz ve; • orlamasini aliniz. \n",
    "# • standart sapmasini aliniz. • varyansini aliniz. • median’ini aliniz. • en kucuk degeri bulunuz. \n",
    "# • en buyuk degeri bulunuz.\n",
    "\n",
    "i=np.random.rand(1,50)\n",
    "print(i.mean())\n",
    "print(i.std())\n",
    "print(i.var())\n",
    "print(np.median(i))\n",
    "print(np.min(i))\n",
    "print(np.max(i))"
   ]
  },
  {
   "cell_type": "code",
   "execution_count": null,
   "metadata": {},
   "outputs": [],
   "source": [
    "#27. Master odev ; Bir dongu icerisinde random olacak sekilde iki tane 20x20’luk \n",
    "# matris uretin ve bu matrislerin farklarini alin. Ve fark matrisinin diagonali,\n",
    "# -0.1 ile 0.1 arasinda olana kadar bu islemi tekrarlayin. \n",
    "# Istenilen matris bulundugunda program dursun ve toplam kac dongunun kuruldugunu, \n",
    "#ne kadar sure icinde buldugunu ve istenilen matrisi print ile birlikte ekrana yazdiriniz... \n",
    "#Tavsiye: 20 x 20 luk matrisin bulunmasi saatler surebilir. \n",
    "#Bu yuzden algoritmanizin dogrulugunu test etmek icin once 4x4, 5x5 \n",
    "# gibi kucuk matrislerde deneyebilirsiniz. \n",
    "#Ve matris sayisisini arttirarak en son 20x20 u deneyebilirsiniz.\n",
    "\n",
    "import numpy as np\n",
    "import time\n",
    "t1=time.time()\n",
    "a=','\n",
    "counter=0\n",
    "while a!='Completed':\n",
    "    c=[]    \n",
    "    x=np.random.rand(5,5)\n",
    "    y=np.random.rand(5,5)\n",
    "    z=x-y\n",
    "    counter+=1\n",
    "    for i in range(len(z)):\n",
    "        if -0.1<z[i,i]<0.1:            \n",
    "            c.append(i)\n",
    "            if len(c)==len(z):\n",
    "                print(z)\n",
    "                a='Completed'\n",
    "print(\"Number of iterations = \",counter)\n",
    "t2=time.time()\n",
    "print(\"Process completion time = \",t2-t1) \n",
    "\n"
   ]
  }
 ],
 "metadata": {
  "interpreter": {
   "hash": "26a8d916e23137cdab9679bed3a072f724907c2b81966deeea54e8101e1500c7"
  },
  "kernelspec": {
   "display_name": "Python 3.9.7 ('.venv': venv)",
   "language": "python",
   "name": "python3"
  },
  "language_info": {
   "codemirror_mode": {
    "name": "ipython",
    "version": 3
   },
   "file_extension": ".py",
   "mimetype": "text/x-python",
   "name": "python",
   "nbconvert_exporter": "python",
   "pygments_lexer": "ipython3",
   "version": "3.9.7"
  },
  "orig_nbformat": 4
 },
 "nbformat": 4,
 "nbformat_minor": 2
}
